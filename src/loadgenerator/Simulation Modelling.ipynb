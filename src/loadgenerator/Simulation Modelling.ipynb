{
 "cells": [
  {
   "cell_type": "code",
   "execution_count": 82,
   "id": "c55876da",
   "metadata": {},
   "outputs": [],
   "source": [
    "import numpy as np\n",
    "import matplotlib.pyplot as plt\n",
    "import matplotlib"
   ]
  },
  {
   "cell_type": "code",
   "execution_count": 39,
   "id": "6bd4f4ce",
   "metadata": {},
   "outputs": [
    {
     "data": {
      "text/plain": [
       "['EUR', 'USD', 'JPY', 'CAD']"
      ]
     },
     "execution_count": 39,
     "metadata": {},
     "output_type": "execute_result"
    }
   ],
   "source": [
    "currencies = ['EUR', 'USD', 'JPY', 'CAD']\n",
    "currencies"
   ]
  },
  {
   "cell_type": "code",
   "execution_count": 40,
   "id": "c72394a8",
   "metadata": {},
   "outputs": [
    {
     "data": {
      "image/png": "[encoded data removed]",
      "text/plain": [
       "<Figure size 432x288 with 1 Axes>"
      ]
     },
     "metadata": {
      "needs_background": "light"
     },
     "output_type": "display_data"
    }
   ],
   "source": [
    "result = np.random.choice(a=currencies, size=10000, replace=True, p=[.35, .6, .0, .05])\n",
    "plt.hist(result);"
   ]
  },
  {
   "cell_type": "code",
   "execution_count": 41,
   "id": "30b5b6c3",
   "metadata": {},
   "outputs": [
    {
     "data": {
      "text/plain": [
       "'USD'"
      ]
     },
     "execution_count": 41,
     "metadata": {},
     "output_type": "execute_result"
    }
   ],
   "source": [
    "np.random.choice(a=currencies, size=1, replace=True, p=[.35, .6, .0, .05])[0]"
   ]
  },
  {
   "cell_type": "markdown",
   "id": "ad6820b0",
   "metadata": {},
   "source": [
    "'0PUK6V6EV0' - candle holder \n",
    "'1YMWWN1N4O' - watch *\n",
    "'2ZYFJ3GM2N' - hair dryer *\n",
    "'66VCHSJNUP' - tank top **\n",
    "'6E92ZMYYFZ' - coffee mug\n",
    "'9SIQT8TOJO' - bamboo glass jar\n",
    "'L9ECAV7KIM' - loafers **\n",
    "'LS4PSXUNUM' - salt and pepper shakers **\n",
    "'OLJCESPC7Z' - sun glasses ***"
   ]
  },
  {
   "cell_type": "code",
   "execution_count": 71,
   "id": "2e3c8de7",
   "metadata": {},
   "outputs": [
    {
     "data": {
      "text/plain": [
       "'OLJCESPC7Z'"
      ]
     },
     "execution_count": 71,
     "metadata": {},
     "output_type": "execute_result"
    }
   ],
   "source": [
    "products = [\n",
    "    '0PUK6V6EV0',\n",
    "    '1YMWWN1N4O',\n",
    "    '2ZYFJ3GM2N',\n",
    "    '66VCHSJNUP',\n",
    "    '6E92ZMYYFZ',\n",
    "    '9SIQT8TOJO',\n",
    "    'L9ECAV7KIM',\n",
    "    'LS4PSXUNUM',\n",
    "    'OLJCESPC7Z']\n",
    "np.random.choice(a=products, size=1, replace=True, p=[.0, .043, .07, .24, .007, .0, .22, .17, .25])[0]"
   ]
  },
  {
   "cell_type": "code",
   "execution_count": 87,
   "id": "9bc156ff",
   "metadata": {},
   "outputs": [
    {
     "data": {
      "image/png": "[encoded data removed]",
      "text/plain": [
       "<Figure size 1080x360 with 1 Axes>"
      ]
     },
     "metadata": {
      "needs_background": "light"
     },
     "output_type": "display_data"
    }
   ],
   "source": [
    "res = np.random.choice(a=products, size=10000, replace=True, p=[.0, .043, .07, .24, .007, .0, .22, .17, .25])\n",
    "\n",
    "plt.hist(res);\n",
    "\n",
    "fig = plt.gcf()\n",
    "fig.set_size_inches(15, 5)\n"
   ]
  },
  {
   "cell_type": "code",
   "execution_count": 90,
   "id": "ce3f9e74",
   "metadata": {},
   "outputs": [
    {
     "data": {
      "text/plain": [
       "(array([212.,   0., 180.,   0.,   0., 191.,   0., 217.,   0., 200.]),\n",
       " array([1. , 1.4, 1.8, 2.2, 2.6, 3. , 3.4, 3.8, 4.2, 4.6, 5. ]),\n",
       " <BarContainer object of 10 artists>)"
      ]
     },
     "execution_count": 90,
     "metadata": {},
     "output_type": "execute_result"
    },
    {
     "data": {
      "image/png": "[encoded data removed]",
      "text/plain": [
       "<Figure size 432x288 with 1 Axes>"
      ]
     },
     "metadata": {
      "needs_background": "light"
     },
     "output_type": "display_data"
    }
   ],
   "source": [
    "quantity = []\n",
    "\n",
    "for i in range(0, 1000):\n",
    "    quantity.append(random.choice([1,2,3,4,5]))\n",
    "\n",
    "plt.hist(quantity)"
   ]
  },
  {
   "cell_type": "code",
   "execution_count": null,
   "id": "39dd20c7",
   "metadata": {},
   "outputs": [],
   "source": []
  },
  {
   "cell_type": "code",
   "execution_count": null,
   "id": "ff5a1541",
   "metadata": {},
   "outputs": [],
   "source": []
  },
  {
   "cell_type": "code",
   "execution_count": null,
   "id": "3f8b5bed",
   "metadata": {},
   "outputs": [],
   "source": []
  },
  {
   "cell_type": "code",
   "execution_count": null,
   "id": "8ea1632a",
   "metadata": {},
   "outputs": [],
   "source": []
  }
 ],
 "metadata": {
  "kernelspec": {
   "display_name": "Python 3 (ipykernel)",
   "language": "python",
   "name": "python3"
  },
  "language_info": {
   "codemirror_mode": {
    "name": "ipython",
    "version": 3
   },
   "file_extension": ".py",
   "mimetype": "text/x-python",
   "name": "python",
   "nbconvert_exporter": "python",
   "pygments_lexer": "ipython3",
   "version": "3.8.12"
  }
 },
 "nbformat": 4,
 "nbformat_minor": 5
}
